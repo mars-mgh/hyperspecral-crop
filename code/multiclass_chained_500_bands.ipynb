{
 "cells": [
  {
   "cell_type": "markdown",
   "id": "helpful-duncan",
   "metadata": {},
   "source": [
    "# Multilabel Chain Classification Model"
   ]
  },
  {
   "cell_type": "markdown",
   "id": "accessible-profile",
   "metadata": {},
   "source": [
    "## Imports"
   ]
  },
  {
   "cell_type": "code",
   "execution_count": 15,
   "id": "uniform-ordinance",
   "metadata": {
    "ExecuteTime": {
     "end_time": "2021-03-18T00:43:51.992409Z",
     "start_time": "2021-03-18T00:43:51.988641Z"
    }
   },
   "outputs": [],
   "source": [
    "import pandas as pd\n",
    "import numpy as np\n",
    "import matplotlib.pyplot as plt\n",
    "\n",
    "#DataViz\n",
    "import seaborn as sns\n",
    "\n",
    "from sklearn.model_selection import cross_val_score, GridSearchCV, train_test_split   #Perforing grid search\n",
    "from sklearn import metrics\n",
    "from sklearn.metrics import accuracy_score\n",
    "from sklearn.preprocessing import StandardScaler\n",
    "\n",
    "# nn\n",
    "from tensorflow.keras.models import Sequential\n",
    "from tensorflow.keras.layers import Dense\n",
    "from tensorflow.keras.utils import to_categorical\n",
    "from sklearn.preprocessing import LabelEncoder\n",
    "from keras.wrappers.scikit_learn import KerasClassifier\n",
    "\n",
    "#models\n",
    "from sklearn.svm import SVC\n",
    "from sklearn.ensemble import GradientBoostingClassifier\n",
    "from sklearn.ensemble import RandomForestClassifier, AdaBoostClassifier\n",
    "from sklearn.linear_model import LogisticRegression\n",
    "\n",
    "from sklearn.multioutput import ClassifierChain\n",
    "\n",
    "from sklearn.metrics import confusion_matrix, accuracy_score"
   ]
  },
  {
   "cell_type": "code",
   "execution_count": 3,
   "id": "right-yacht",
   "metadata": {
    "ExecuteTime": {
     "end_time": "2021-03-18T00:35:42.980094Z",
     "start_time": "2021-03-18T00:35:42.977213Z"
    }
   },
   "outputs": [],
   "source": [
    "pd.options.display.max_columns = None"
   ]
  },
  {
   "cell_type": "markdown",
   "id": "human-jurisdiction",
   "metadata": {},
   "source": [
    "## Nulls"
   ]
  },
  {
   "cell_type": "markdown",
   "id": "iraqi-petroleum",
   "metadata": {},
   "source": [
    "some bandwiths are nulls in all data because information about water absorption has been cleaned."
   ]
  },
  {
   "cell_type": "code",
   "execution_count": 4,
   "id": "advanced-tiger",
   "metadata": {
    "ExecuteTime": {
     "end_time": "2021-03-18T00:35:46.821678Z",
     "start_time": "2021-03-18T00:35:46.725493Z"
    }
   },
   "outputs": [],
   "source": [
    "df = pd.read_csv('../data/GHISACONUS_2008_small.csv')\n",
    "df.dropna(axis = 1, how = 'all', inplace= True)\n",
    "df = df[df['Stage'] != 'Harvest']\n",
    "df['Label'] = [','.join(i) for i in zip(df[\"Crop\"],df[\"Stage\"])]\n",
    "\n",
    "features = [col for col in df.columns if col.startswith('X')]\n",
    "X = df[features]\n",
    "z = df['Label']\n",
    "crop_ = df['Crop']\n",
    "stage_ = df['Stage']"
   ]
  },
  {
   "cell_type": "code",
   "execution_count": 17,
   "id": "statutory-briefing",
   "metadata": {
    "ExecuteTime": {
     "end_time": "2021-03-18T00:44:23.955966Z",
     "start_time": "2021-03-18T00:44:23.953418Z"
    }
   },
   "outputs": [],
   "source": [
    "crop_labels = ['Corn', 'Cotton', 'Rice', 'Soybean', 'Winter Wheat']\n",
    "stage_labels = ['Critical', 'Early_Mid', 'Emerge_VEarly',  'Late', 'Mature_Senesc']"
   ]
  },
  {
   "cell_type": "markdown",
   "id": "varying-attempt",
   "metadata": {},
   "source": [
    "### Creating Y"
   ]
  },
  {
   "cell_type": "code",
   "execution_count": 5,
   "id": "humanitarian-moses",
   "metadata": {
    "ExecuteTime": {
     "end_time": "2021-03-18T00:35:47.803476Z",
     "start_time": "2021-03-18T00:35:47.762027Z"
    }
   },
   "outputs": [],
   "source": [
    "#Split dataset\n",
    "X_train, X_test, z_train, z_test = train_test_split(X, z, test_size = 0.15, random_state = 1, stratify=z)\n",
    "\n",
    "#For the encoder\n",
    "X_train, X_test, c_train, c_test = train_test_split(X, crop_, test_size = 0.15, random_state = 1, stratify=z)\n",
    "X_train, X_test, s_train, s_test = train_test_split(X, stage_, test_size = 0.15, random_state = 1, stratify=z)"
   ]
  },
  {
   "cell_type": "code",
   "execution_count": 6,
   "id": "funded-reach",
   "metadata": {
    "ExecuteTime": {
     "end_time": "2021-03-18T00:35:48.616431Z",
     "start_time": "2021-03-18T00:35:48.592419Z"
    }
   },
   "outputs": [],
   "source": [
    "#Generate y_test\n",
    "y_test = pd.DataFrame(z_test)\n",
    "\n",
    "#split z_train \n",
    "y_test[['Crop','Stage']] = y_test['Label'].str.split(',',expand=True)\n",
    "\n",
    "#Generate y_test \n",
    "y_train = pd.DataFrame(z_train)\n",
    "\n",
    "#split z_train \n",
    "y_train[['Crop','Stage']] = y_train['Label'].str.split(',',expand=True)\n",
    "\n",
    "encoder_crop = LabelEncoder()\n",
    "encoder_crop.fit(crop_)\n",
    "\n",
    "y_train['Crop'] = encoder_crop.transform(y_train['Crop'])\n",
    "y_test['Crop'] = encoder_crop.transform(y_test['Crop'])\n",
    "\n",
    "encoder_stage = LabelEncoder()\n",
    "encoder_stage.fit(stage_)\n",
    "\n",
    "y_train['Stage'] = encoder_stage.transform(y_train['Stage'])\n",
    "y_test['Stage'] = encoder_stage.transform(y_test['Stage'])\n",
    "\n",
    "y_train.drop(columns = ['Label'], inplace = True)\n",
    "y_test.drop(columns = ['Label'], inplace = True)"
   ]
  },
  {
   "cell_type": "code",
   "execution_count": 7,
   "id": "applicable-wireless",
   "metadata": {
    "ExecuteTime": {
     "end_time": "2021-03-18T00:35:49.366545Z",
     "start_time": "2021-03-18T00:35:49.267664Z"
    }
   },
   "outputs": [
    {
     "data": {
      "text/html": [
       "<div>\n",
       "<style scoped>\n",
       "    .dataframe tbody tr th:only-of-type {\n",
       "        vertical-align: middle;\n",
       "    }\n",
       "\n",
       "    .dataframe tbody tr th {\n",
       "        vertical-align: top;\n",
       "    }\n",
       "\n",
       "    .dataframe thead th {\n",
       "        text-align: right;\n",
       "    }\n",
       "</style>\n",
       "<table border=\"1\" class=\"dataframe\">\n",
       "  <thead>\n",
       "    <tr style=\"text-align: right;\">\n",
       "      <th></th>\n",
       "      <th>Crop</th>\n",
       "      <th>Stage</th>\n",
       "    </tr>\n",
       "  </thead>\n",
       "  <tbody>\n",
       "    <tr>\n",
       "      <th>879</th>\n",
       "      <td>4</td>\n",
       "      <td>4</td>\n",
       "    </tr>\n",
       "    <tr>\n",
       "      <th>3158</th>\n",
       "      <td>1</td>\n",
       "      <td>4</td>\n",
       "    </tr>\n",
       "    <tr>\n",
       "      <th>1919</th>\n",
       "      <td>0</td>\n",
       "      <td>1</td>\n",
       "    </tr>\n",
       "    <tr>\n",
       "      <th>1022</th>\n",
       "      <td>3</td>\n",
       "      <td>0</td>\n",
       "    </tr>\n",
       "    <tr>\n",
       "      <th>222</th>\n",
       "      <td>0</td>\n",
       "      <td>3</td>\n",
       "    </tr>\n",
       "  </tbody>\n",
       "</table>\n",
       "</div>"
      ],
      "text/plain": [
       "      Crop  Stage\n",
       "879      4      4\n",
       "3158     1      4\n",
       "1919     0      1\n",
       "1022     3      0\n",
       "222      0      3"
      ]
     },
     "execution_count": 7,
     "metadata": {},
     "output_type": "execute_result"
    }
   ],
   "source": [
    "y_train.head()"
   ]
  },
  {
   "cell_type": "code",
   "execution_count": 8,
   "id": "regulation-australian",
   "metadata": {
    "ExecuteTime": {
     "end_time": "2021-03-18T00:35:49.677098Z",
     "start_time": "2021-03-18T00:35:49.671665Z"
    }
   },
   "outputs": [
    {
     "data": {
      "text/plain": [
       "((1015, 50), (1015, 2), (5747, 50), (5747, 2))"
      ]
     },
     "execution_count": 8,
     "metadata": {},
     "output_type": "execute_result"
    }
   ],
   "source": [
    "X_test.shape, y_test.shape, X_train.shape, y_train.shape"
   ]
  },
  {
   "cell_type": "markdown",
   "id": "interim-verification",
   "metadata": {},
   "source": [
    "## Chain with LogReg"
   ]
  },
  {
   "cell_type": "code",
   "execution_count": 9,
   "id": "ultimate-patrick",
   "metadata": {
    "ExecuteTime": {
     "end_time": "2021-03-18T00:36:50.158088Z",
     "start_time": "2021-03-18T00:35:53.768141Z"
    }
   },
   "outputs": [
    {
     "data": {
      "text/plain": [
       "ClassifierChain(base_estimator=LogisticRegression(max_iter=100000))"
      ]
     },
     "execution_count": 9,
     "metadata": {},
     "output_type": "execute_result"
    }
   ],
   "source": [
    "# initialize classifier chains multi-label classifier\n",
    "chain = ClassifierChain(LogisticRegression(max_iter=100_000))\n",
    "# Training logistic regression model on train data\n",
    "chain.fit(X_train, y_train)"
   ]
  },
  {
   "cell_type": "code",
   "execution_count": 51,
   "id": "seven-creativity",
   "metadata": {
    "ExecuteTime": {
     "end_time": "2021-03-18T05:18:32.443812Z",
     "start_time": "2021-03-18T05:18:32.283945Z"
    }
   },
   "outputs": [
    {
     "name": "stdout",
     "output_type": "stream",
     "text": [
      "Crop Accuracy: 61.87% -- Stage Accuracy: 76.06%\n"
     ]
    }
   ],
   "source": [
    "# predict\n",
    "predictions = chain.predict(X_test)\n",
    "predictions = pd.DataFrame(predictions, columns=['Crop', 'Stage'])\n",
    "\n",
    "predictions['Crop'] = predictions['Crop'].astype(int)\n",
    "predictions['Stage'] = predictions['Stage'].astype(int)\n",
    "\n",
    "predictions['Crop'] = encoder_crop.inverse_transform(predictions['Crop'])\n",
    "predictions['Stage'] = encoder_stage.inverse_transform(predictions['Stage'])\n",
    "\n",
    "crop_accuracy = accuracy_score(c_test, predictions['Crop'])\n",
    "stage_accuracy = accuracy_score(s_test, predictions['Stage'])\n",
    "\n",
    "print(f'Crop Accuracy: {round((crop_accuracy)*100, 2)}% -- Stage Accuracy: {round((stage_accuracy)*100, 2)}%')"
   ]
  },
  {
   "cell_type": "code",
   "execution_count": 52,
   "id": "concrete-round",
   "metadata": {
    "ExecuteTime": {
     "end_time": "2021-03-18T05:18:34.772452Z",
     "start_time": "2021-03-18T05:18:34.139228Z"
    }
   },
   "outputs": [
    {
     "data": {
      "image/png": "[encoded data removed]",
      "text/plain": [
       "<Figure size 1296x432 with 4 Axes>"
      ]
     },
     "metadata": {
      "needs_background": "light"
     },
     "output_type": "display_data"
    }
   ],
   "source": [
    "sns.light_palette(\"seagreen\", as_cmap=True)\n",
    "conf_mat_c = confusion_matrix(c_test, predictions['Crop'])\n",
    "conf_mat_s = confusion_matrix(s_test, predictions['Stage'])\n",
    "fig, (ax1, ax2) = plt.subplots(nrows=1, ncols=2, figsize=[18,6])\n",
    "\n",
    "sns.heatmap(conf_mat_c, annot=True, fmt='d',\n",
    "            xticklabels=crop_labels, yticklabels=crop_labels, square = True, ax= ax1, cmap='Greens', vmin = 0)\n",
    "\n",
    "sns.heatmap(conf_mat_s, annot=True, fmt='d',\n",
    "            xticklabels=stage_labels, yticklabels=stage_labels, square = True, ax = ax2, cmap='Greens', vmin = 0)\n",
    "\n",
    "plt.ylabel('Actual')\n",
    "plt.xlabel('Predicted')\n",
    "plt.show()"
   ]
  },
  {
   "cell_type": "markdown",
   "id": "suspended-princess",
   "metadata": {},
   "source": [
    "## Gboost"
   ]
  },
  {
   "cell_type": "code",
   "execution_count": 49,
   "id": "injured-palestinian",
   "metadata": {
    "ExecuteTime": {
     "end_time": "2021-03-18T02:28:46.124096Z",
     "start_time": "2021-03-18T02:26:43.789406Z"
    }
   },
   "outputs": [
    {
     "data": {
      "text/plain": [
       "ClassifierChain(base_estimator=GradientBoostingClassifier(learning_rate=1,\n",
       "                                                          max_depth=5,\n",
       "                                                          random_state=1))"
      ]
     },
     "execution_count": 49,
     "metadata": {},
     "output_type": "execute_result"
    }
   ],
   "source": [
    "gboost_class = GradientBoostingClassifier(n_estimators=100,\n",
    "                                          learning_rate=1,\n",
    "                                          max_depth=5,\n",
    "                                          random_state=1)\n",
    "\n",
    "# initialize classifier chains multi-label classifier\n",
    "chain = ClassifierChain(gboost_class)\n",
    "# Training logistic regression model on train data\n",
    "chain.fit(X_train, y_train)"
   ]
  },
  {
   "cell_type": "code",
   "execution_count": 50,
   "id": "unlike-variable",
   "metadata": {
    "ExecuteTime": {
     "end_time": "2021-03-18T02:28:46.166405Z",
     "start_time": "2021-03-18T02:28:46.126812Z"
    }
   },
   "outputs": [
    {
     "name": "stdout",
     "output_type": "stream",
     "text": [
      "Crop Accuracy: 61.87% -- Stage Accuracy: 76.06%\n"
     ]
    }
   ],
   "source": [
    "# predict\n",
    "predictions = chain.predict(X_test)\n",
    "predictions = pd.DataFrame(predictions, columns=['Crop', 'Stage'])\n",
    "\n",
    "predictions['Crop'] = predictions['Crop'].astype(int)\n",
    "predictions['Stage'] = predictions['Stage'].astype(int)\n",
    "\n",
    "predictions['Crop'] = encoder_crop.inverse_transform(predictions['Crop'])\n",
    "predictions['Stage'] = encoder_stage.inverse_transform(predictions['Stage'])\n",
    "\n",
    "#Score Accuracy\n",
    "crop_accuracy = accuracy_score(c_test, predictions['Crop'])\n",
    "stage_accuracy = accuracy_score(s_test, predictions['Stage'])\n",
    "\n",
    "print(f'Crop Accuracy: {round((crop_accuracy)*100, 2)}% -- Stage Accuracy: {round((stage_accuracy)*100, 2)}%')"
   ]
  },
  {
   "cell_type": "code",
   "execution_count": 43,
   "id": "funded-ownership",
   "metadata": {
    "ExecuteTime": {
     "end_time": "2021-03-18T01:14:39.340454Z",
     "start_time": "2021-03-18T01:14:38.903576Z"
    }
   },
   "outputs": [
    {
     "data": {
      "image/png": "[encoded data removed]",
      "text/plain": [
       "<Figure size 1296x432 with 4 Axes>"
      ]
     },
     "metadata": {
      "needs_background": "light"
     },
     "output_type": "display_data"
    }
   ],
   "source": [
    "conf_mat_c = confusion_matrix(c_test, predictions['Crop'])\n",
    "conf_mat_s = confusion_matrix(s_test, predictions['Stage'])\n",
    "fig, (ax1, ax2) = plt.subplots(nrows=1, ncols=2, figsize=[18,6])\n",
    "\n",
    "sns.heatmap(conf_mat_c, annot=True, fmt='d',\n",
    "            xticklabels=crop_labels, yticklabels=crop_labels, square = True, ax= ax1, cmap = 'Greens', vmin= 0)\n",
    "\n",
    "sns.heatmap(conf_mat_s, annot=True, fmt='d',\n",
    "            xticklabels=stage_labels, yticklabels=stage_labels, square = True, ax = ax2, cmap = 'Greens', vmin= 0)\n",
    "\n",
    "plt.ylabel('Actual')\n",
    "plt.xlabel('Predicted')\n",
    "plt.show()"
   ]
  },
  {
   "cell_type": "code",
   "execution_count": 64,
   "id": "impossible-thompson",
   "metadata": {
    "ExecuteTime": {
     "end_time": "2021-03-18T16:46:13.288572Z",
     "start_time": "2021-03-18T16:46:13.284442Z"
    }
   },
   "outputs": [],
   "source": [
    "y_true = y_test\n",
    "y_true['Crop'] = encoder_crop.inverse_transform(y_true['Crop'])\n",
    "y_true['Stage'] = encoder_stage.inverse_transform(y_true['Stage'])"
   ]
  },
  {
   "cell_type": "code",
   "execution_count": 65,
   "id": "ordinary-anniversary",
   "metadata": {
    "ExecuteTime": {
     "end_time": "2021-03-18T16:46:16.217196Z",
     "start_time": "2021-03-18T16:46:16.211244Z"
    }
   },
   "outputs": [
    {
     "data": {
      "text/plain": [
       "0       2855\n",
       "1       6936\n",
       "2       5809\n",
       "3       6672\n",
       "4       3552\n",
       "        ... \n",
       "1010      67\n",
       "1011    3020\n",
       "1012    5223\n",
       "1013    2883\n",
       "1014    4610\n",
       "Name: og_index, Length: 1015, dtype: int64"
      ]
     },
     "execution_count": 65,
     "metadata": {},
     "output_type": "execute_result"
    }
   ],
   "source": [
    "index_test = y_test.reset_index()\n",
    "index_test = index_test.rename(columns = {'index':'og_index'})\n",
    "index_test['og_index']"
   ]
  }
 ],
 "metadata": {
  "kernelspec": {
   "display_name": "Python 3",
   "language": "python",
   "name": "python3"
  },
  "language_info": {
   "codemirror_mode": {
    "name": "ipython",
    "version": 3
   },
   "file_extension": ".py",
   "mimetype": "text/x-python",
   "name": "python",
   "nbconvert_exporter": "python",
   "pygments_lexer": "ipython3",
   "version": "3.8.5"
  },
  "toc": {
   "base_numbering": 1,
   "nav_menu": {},
   "number_sections": true,
   "sideBar": true,
   "skip_h1_title": true,
   "title_cell": "Table of Contents",
   "title_sidebar": "Contents",
   "toc_cell": false,
   "toc_position": {},
   "toc_section_display": true,
   "toc_window_display": true
  }
 },
 "nbformat": 4,
 "nbformat_minor": 5
}
